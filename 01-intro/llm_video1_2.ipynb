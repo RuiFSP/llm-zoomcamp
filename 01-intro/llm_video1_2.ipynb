{
 "cells": [
  {
   "cell_type": "code",
   "execution_count": 5,
   "id": "9c8ff939-0823-4759-9471-0b99837b87e8",
   "metadata": {},
   "outputs": [],
   "source": [
    "import openai\n",
    "import os\n",
    "from dotenv import load_dotenv\n",
    "from openai import OpenAI"
   ]
  },
  {
   "cell_type": "code",
   "execution_count": 22,
   "id": "bedd45d8-791d-49a7-9d55-cbf58afc6ae5",
   "metadata": {},
   "outputs": [],
   "source": [
    "# Load environment variables from .env file\n",
    "load_dotenv()\n",
    "\n",
    "# Retrieve the API key from environment variables\n",
    "api_key = os.getenv(\"OPENAI_API_KEY\")\n",
    "\n",
    "# Print the API key\n",
    "#print(api_key)\n",
    "\n",
    "client = OpenAI(api_key=api_key)"
   ]
  },
  {
   "cell_type": "code",
   "execution_count": 9,
   "id": "83524d2a",
   "metadata": {},
   "outputs": [],
   "source": [
    "# os.environ \n",
    "# check if the open ai key is in our environment variables , but you had to export it first\n",
    "# example export OPENAI_API_KEY=sk-1234567890"
   ]
  },
  {
   "cell_type": "code",
   "execution_count": 15,
   "id": "6be65779",
   "metadata": {},
   "outputs": [],
   "source": [
    "response = client.chat.completions.create(\n",
    "    model=\"gpt-4o\",\n",
    "    messages=[\n",
    "        {\"role\": \"user\", \"content\": \"is it too late to join the course?\"},\n",
    "    ]\n",
    ")"
   ]
  },
  {
   "cell_type": "code",
   "execution_count": 21,
   "id": "33c2eb2f",
   "metadata": {},
   "outputs": [
    {
     "data": {
      "text/plain": [
       "\"It's difficult to determine whether it's too late to join a course without additional context. Factors to consider include the course start date, registration deadlines, the policies of the institution offering the course, and how much of the course material has already been covered. \\n\\nIf you're interested in joining a course, I recommend reaching out directly to the course instructor or the institution's admissions or registration office to get accurate information. They can provide details on whether late enrollment is possible and any steps you might need to take.\""
      ]
     },
     "execution_count": 21,
     "metadata": {},
     "output_type": "execute_result"
    }
   ],
   "source": [
    "response.choices[0].message.content"
   ]
  }
 ],
 "metadata": {
  "kernelspec": {
   "display_name": "Python 3 (ipykernel)",
   "language": "python",
   "name": "python3"
  },
  "language_info": {
   "codemirror_mode": {
    "name": "ipython",
    "version": 3
   },
   "file_extension": ".py",
   "mimetype": "text/x-python",
   "name": "python",
   "nbconvert_exporter": "python",
   "pygments_lexer": "ipython3",
   "version": "3.10.6"
  }
 },
 "nbformat": 4,
 "nbformat_minor": 5
}
