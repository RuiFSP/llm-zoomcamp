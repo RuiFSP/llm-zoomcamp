{
 "cells": [
  {
   "cell_type": "code",
   "execution_count": 1,
   "id": "9c8ff939-0823-4759-9471-0b99837b87e8",
   "metadata": {},
   "outputs": [],
   "source": [
    "import os\n",
    "from dotenv import load_dotenv\n",
    "from openai import OpenAI"
   ]
  },
  {
   "cell_type": "code",
   "execution_count": 2,
   "id": "bedd45d8-791d-49a7-9d55-cbf58afc6ae5",
   "metadata": {},
   "outputs": [],
   "source": [
    "# Load environment variables from .env file\n",
    "load_dotenv()\n",
    "\n",
    "# Retrieve the API key from environment variables\n",
    "api_key = os.getenv(\"OPENAI_API_KEY\")\n",
    "\n",
    "# Print the API key\n",
    "#print(api_key)\n",
    "\n",
    "client = OpenAI(api_key=api_key)"
   ]
  },
  {
   "cell_type": "code",
   "execution_count": 3,
   "id": "83524d2a",
   "metadata": {},
   "outputs": [],
   "source": [
    "# os.environ \n",
    "# check if the open ai key is in our environment variables , but you had to export it first\n",
    "# example export OPENAI_API_KEY=sk-1234567890"
   ]
  },
  {
   "cell_type": "code",
   "execution_count": 4,
   "id": "6be65779",
   "metadata": {},
   "outputs": [],
   "source": [
    "response = client.chat.completions.create(\n",
    "    model=\"gpt-4o\",\n",
    "    messages=[\n",
    "        {\"role\": \"user\", \"content\": \"is it too late to join the course?\"},\n",
    "    ]\n",
    ")"
   ]
  },
  {
   "cell_type": "code",
   "execution_count": 5,
   "id": "33c2eb2f",
   "metadata": {},
   "outputs": [
    {
     "data": {
      "text/plain": [
       "\"It's difficult to say without more specific information about the course you're referring to. Here are a few general suggestions to determine if it's too late to join:\\n\\n1. **Check Registration Deadlines**: Refer to the official course website or contact the institution offering the course for enrollment deadlines.\\n\\n2. **Contact the Instructor or Administrator**: They can provide information on whether late enrollment is possible and any steps you might need to take.\\n\\n3. **Course Schedule**: Consider how far along the course is. If it's early in the term, catching up might be manageable, but if the course is nearing completion, it might be more challenging.\\n\\n4. **Flexible Options**: Some courses offer rolling admissions, self-paced modules, or multiple start dates.\\n\\n5. **Institution Policies**: Universities and other educational institutions may have specific policies on late enrollment, including potential additional requirements or fees.\\n\\nIf you provide more details about the course, I might be able to offer more tailored advice.\""
      ]
     },
     "execution_count": 5,
     "metadata": {},
     "output_type": "execute_result"
    }
   ],
   "source": [
    "response.choices[0].message.content"
   ]
  }
 ],
 "metadata": {
  "kernelspec": {
   "display_name": "Python 3 (ipykernel)",
   "language": "python",
   "name": "python3"
  },
  "language_info": {
   "codemirror_mode": {
    "name": "ipython",
    "version": 3
   },
   "file_extension": ".py",
   "mimetype": "text/x-python",
   "name": "python",
   "nbconvert_exporter": "python",
   "pygments_lexer": "ipython3",
   "version": "3.10.6"
  }
 },
 "nbformat": 4,
 "nbformat_minor": 5
}
